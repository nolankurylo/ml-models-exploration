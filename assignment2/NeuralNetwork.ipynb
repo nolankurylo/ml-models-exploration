{
 "cells": [
  {
   "cell_type": "markdown",
   "metadata": {},
   "source": [
    "# SENG 474\n",
    "# Assignment 2 - Problem 1\n",
    "# Nolan Kurylo\n",
    "# V00893175\n",
    "To execute notebook, ensure ALL cells are run from top to bottom (since imports/df creation are only called once)\n",
    "\n",
    "\n",
    "The neural network implemented in 1.2 makes use of the following formulas:\n",
    "\n",
    "Sigmoid\n",
    "$$\n",
    "\\sigma(x) = \\frac{1}{1 + e^{-x}} \n",
    "$$\n",
    "\n",
    "Sigmoid Gradient\n",
    "$$\n",
    "\\sigma'(x) = \\sigma(x)(1 - \\sigma(x))\n",
    "$$\n",
    "\n",
    "Softmax\n",
    "$$\n",
    "f(x)_i =  \\frac{e^{x_i}}{ \\sum_j e^{x_j} }\n",
    "$$\n",
    "\n",
    "Softmax Gradient (assuming i = j)\n",
    "$$\n",
    "f(x)_i' =  f(x)_i(1 - f(x)_i)\n",
    "$$\n",
    "\n",
    "\n",
    "References (these were also used for most of the following problems):\n",
    "\n",
    "\n",
    "1) https://mmuratarat.github.io/2019-01-27/derivation-of-softmax-function\n",
    " \n",
    "2) https://towardsdatascience.com/mnist-handwritten-digits-classification-from-scratch-using-python-numpy-b08e401c4dab\n",
    "\n",
    "3) https://mlfromscratch.com/neural-network-tutorial/#/\n",
    "\n",
    "4) https://keras.io/api/\n",
    "\n",
    "5) https://keras.io/examples/vision/mnist_convnet/\n",
    "\n",
    "6) https://machinelearningmastery.com/grid-search-hyperparameters-deep-learning-models-python-keras/\n"
   ]
  },
  {
   "cell_type": "markdown",
   "metadata": {},
   "source": [
    "# 1.1 Derivative\n",
    "\n",
    "The softmax activation function is:\n",
    "$$\n",
    "f(x)_i =  \\frac{e^{x_i}}{ \\sum_j e^{x_j} }\n",
    "$$\n",
    "\n",
    "The derivative of the softmax activation function is calculated using the Quotient Rule:\n",
    "\n",
    "When \n",
    "$$\n",
    "f(x) = \\frac{g(x)}{h(x)}\n",
    "$$\n",
    "Then\n",
    "$$\n",
    "f'(x) = \\frac{g'(x)h(x) - g(x)h'(x)}{h'(x)^2}\n",
    "$$\n",
    "\n",
    "So in the case of the softmax activation function given above:\n",
    "\n",
    "$$\n",
    "g(x) = e^{x_i}\n",
    "$$\n",
    "$$\n",
    "h(x) = \\sum_j e^{x_j}\n",
    "$$\n",
    "$$\n",
    "g'(x) = \\frac{d}{dx_j}(e^{x_i}) = \\frac{d}{dx_i}(e^{x_i}) \\frac{dx_i}{dx_j}(x_i) = \\begin{cases}e^{x_i} & i = j\\\\0 & i  \\neq  j\\end{cases} \n",
    "$$\n",
    "$$\n",
    "h'(x) = \\frac{d}{dx_j}(\\sum_j e^{x_j}) = \\frac{d}{dx_j}( e^{x_j}) + \\frac{d}{dx_j}(\\sum_{i\\neq j} e^{x_i}) = e^{x_j} + 0 = e^{x_j}\n",
    "$$\n",
    "\n",
    "So now there are two cases when finding the derivative f'(x):\n",
    "\n",
    "\n",
    "$$\n",
    "Case\\ 1:\\ i \\neq j\n",
    "$$\n",
    "$$\n",
    "f'(x) = \\frac{(0)(\\sum_j e^{x_j}) - (e^{x_i})(e^{x_j})}{(\\sum_j e^{x_j})^2} = \\frac{- e^{x_i}e^{x_j}}{(\\sum_j e^{x_j})^2} = -f(x)_if(x)_j\n",
    "$$\n",
    "And\n",
    "$$\n",
    "Case\\ 2:\\ i = j\n",
    "$$\n",
    "$$\n",
    "f'(x) = \\frac{(e^{x_i})(\\sum_j e^{x_j}) - (e^{x_i})(e^{x_j})}{(\\sum_j e^{x_j})^2} = \\frac{e^{x_i}(\\sum_j e^{x_j} - e^{x_j})}{(\\sum_j e^{x_j})^2} \n",
    "= \\frac{e^{x_i}}{\\sum_j e^{x_j}} \\frac{\\sum_j e^{x_j} - e^{x_j}}{\\sum_j e^{x_j}} \n",
    "= \\frac{e^{x_i}}{\\sum_j e^{x_j}} \\frac{\\sum_j e^{x_i} - e^{x_i}}{\\sum_j e^{x_j}} \n",
    "= \\frac{e^{x_i}}{\\sum_j e^{x_j}} (1 - \\frac{e^{x_i}}{\\sum_j e^{x_j}}) \n",
    "= f(x)_i(1 - f(x)_i)\n",
    "$$\n",
    "So the final derivative is:\n",
    "$$\n",
    "f'(x)_i= \\begin{cases}f(x)_i(1 - f(x)_i) & i = j\\\\-f(x)_if(x)_j & i  \\neq  j\\end{cases} \n",
    "$$"
   ]
  },
  {
   "cell_type": "code",
   "execution_count": 1,
   "metadata": {},
   "outputs": [
    {
     "name": "stdout",
     "output_type": "stream",
     "text": [
      "(60000, 28, 28)\n",
      "Epoch 1/10: Training Accuracy: 10.9375% Training Error: 89.0625% Validation Accuracy: 8.9% Validation Error: 91.1%\n",
      "Epoch 2/10: Training Accuracy: 64.84375% Training Error: 35.15625% Validation Accuracy: 62.260000000000005% Validation Error: 37.739999999999995%\n",
      "Epoch 3/10: Training Accuracy: 70.3125% Training Error: 29.6875% Validation Accuracy: 70.82000000000001% Validation Error: 29.179999999999993%\n",
      "Epoch 4/10: Training Accuracy: 74.21875% Training Error: 25.78125% Validation Accuracy: 74.71% Validation Error: 25.290000000000006%\n",
      "Epoch 5/10: Training Accuracy: 81.25% Training Error: 18.75% Validation Accuracy: 76.79% Validation Error: 23.209999999999994%\n",
      "Epoch 6/10: Training Accuracy: 80.46875% Training Error: 19.53125% Validation Accuracy: 78.47% Validation Error: 21.53%\n",
      "Epoch 7/10: Training Accuracy: 75.78125% Training Error: 24.21875% Validation Accuracy: 79.97% Validation Error: 20.03%\n",
      "Epoch 8/10: Training Accuracy: 85.15625% Training Error: 14.84375% Validation Accuracy: 81.26% Validation Error: 18.739999999999995%\n",
      "Epoch 9/10: Training Accuracy: 81.25% Training Error: 18.75% Validation Accuracy: 82.25% Validation Error: 17.75%\n",
      "Epoch 10/10: Training Accuracy: 85.15625% Training Error: 14.84375% Validation Accuracy: 82.97% Validation Error: 17.03%\n"
     ]
    },
    {
     "data": {
      "image/png": "[encoded data removed]",
      "text/plain": [
       "<Figure size 432x288 with 1 Axes>"
      ]
     },
     "metadata": {
      "needs_background": "light"
     },
     "output_type": "display_data"
    },
    {
     "data": {
      "image/png": "[encoded data removed]",
      "text/plain": [
       "<Figure size 432x288 with 1 Axes>"
      ]
     },
     "metadata": {
      "needs_background": "light"
     },
     "output_type": "display_data"
    }
   ],
   "source": [
    "#1.2 Simple\n",
    "from keras.datasets import mnist\n",
    "import keras\n",
    "import numpy as np\n",
    "import matplotlib.pyplot as plt\n",
    "np.random.seed(1337)\n",
    "\n",
    "\n",
    "def sigmoid(x):\n",
    "    \"\"\" Sigmoid activation function\n",
    "    :param x: layer vector\n",
    "    :return: calculated value\n",
    "    \"\"\"\n",
    "    return 1 / (1 + np.exp(-x))    \n",
    "\n",
    "def sigmoid_gradient(x):\n",
    "    \"\"\" Derivative of sigmoid activation function\n",
    "    :param x: layer vector\n",
    "    :return: calculated value\n",
    "    \"\"\"\n",
    "    sigmoid_value = sigmoid(x)\n",
    "    return sigmoid_value*(1-sigmoid_value)\n",
    "\n",
    "def softmax(x):\n",
    "    \"\"\" Softmax activation function\n",
    "    :param x: layer vector\n",
    "    :return: calculated value\n",
    "    \"\"\"\n",
    "    exponents = np.exp(x - x.max()) # - x max to avoid Nan and inf values in numpy\n",
    "    return exponents / np.sum(exponents, axis = 0)\n",
    "\n",
    "def softmax_gradient(x):\n",
    "    \"\"\" Derivative of softmax activation function\n",
    "    :param x: layer vector\n",
    "    :return: calculated value\n",
    "    \"\"\"\n",
    "    softmax_value = softmax(x)\n",
    "    return softmax_value*(1-softmax_value) # assuming i=j for simplicity\n",
    "    \n",
    "\n",
    "def forward_propagation(x, hidden_weights, output_weights): \n",
    "    \"\"\" Performs forward propagation through the network to find the output weights and activations of the current iteration\n",
    "    :param x: layer vector\n",
    "    :param hidden_weights: current hidden weights\n",
    "    :param output_weights: current output weights\n",
    "    :return: new hidden and output weights\n",
    "    \"\"\"\n",
    "\n",
    "    #input layer to hidden layer\n",
    "    output = {}\n",
    "    output['hidden_weights'] = x.dot(hidden_weights)\n",
    "    output['hidden_activation'] = sigmoid(output['hidden_weights'])\n",
    "\n",
    "    #hidden layer to output layer\n",
    "    output['output_weights'] = output['hidden_activation'].dot(output_weights)\n",
    "    output['output_activation'] = softmax(output['output_weights'])\n",
    "   \n",
    "    return output\n",
    "\n",
    "def backward_propagation(x, labels, output, output_weights): \n",
    "    \"\"\" Performs the necessary weight adjustments to be used in the gradient descent of the hidden and output layers\n",
    "    :param x: layer vector\n",
    "    :param labels: ground truths (label vector)\n",
    "    :param output: dictionary containing current hidden and output activations\n",
    "    :param output_weights: current output weights\n",
    "    :return: adjusted hidden and output weights\n",
    "    \"\"\" \n",
    "    weight_adjustments = {}\n",
    "\n",
    "    # update output weights\n",
    "    error=2*(output['output_activation']-labels) / output['output_activation'].shape[0]*softmax_gradient(output['output_weights'])\n",
    "    weight_adjustments['output'] = np.matmul(output['hidden_activation'], error)\n",
    "    \n",
    "    # update hidden weights\n",
    "    error=((output_weights).dot(error.T)).T*sigmoid_gradient(output['hidden_weights'])\n",
    "    weight_adjustments['hidden']= np.matmul(x.T, error)\n",
    "\n",
    "    return weight_adjustments\n",
    "\n",
    "\n",
    "\n",
    "def get_sample(train_X, train_y): \n",
    "    \"\"\" Obtains a batch of 128 random samples from train_X transformed 28x28 pixel images into 1x784 pixel images along with corresponding y and its labels transformed into a 1x10 array\n",
    "    :param train_X: training set\n",
    "    :param train_y: label vector\n",
    "    :return: batch of training set, corresponding label vector its one hot encoded representation\n",
    "    \"\"\"\n",
    "    max_idx = train_X.shape[0]\n",
    "    input_neurons = np.random.randint(0,max_idx,size=128) # 128 random sample for the input neurons\n",
    "    x = train_X[input_neurons].reshape((-1,784)) # flatten x into 128 samples of 784 pixels\n",
    "    y = train_y[input_neurons] # obtain corresponding y values for samples\n",
    "    labels = np.zeros((len(y),10), np.float32) # create vector of all zeros for each label\n",
    "    labels[range(labels.shape[0]), y] = 1 # set correponding column to be a 1 in each new row\n",
    "\n",
    "    return x, y, labels # return new x, y and label samples\n",
    "\n",
    "\n",
    "def gradient_descent(old_hidden_weights, old_output_weights, hidden_weight_adjustments, output_weight_adjustments, learning_rate): \n",
    "    \"\"\" Finds the updated hidden and output weights using the learning_rate hyperparameter\n",
    "    :param old_hidden_weights: previous hidden weights\n",
    "    :param old_output_weights: previous output weights\n",
    "    :param hidden_weight_adjustments: new hidden weights\n",
    "    :param output_weight_adjustments: new output weights\n",
    "    :param learning_rate: hyperparameter\n",
    "    :return: new hidden weights, new output weights\n",
    "    \"\"\"\n",
    "\n",
    "    new_hidden_weights = old_hidden_weights - learning_rate * hidden_weight_adjustments\n",
    "    new_output_weights = old_output_weights - learning_rate * output_weight_adjustments\n",
    "\n",
    "    return new_hidden_weights, new_output_weights\n",
    "\n",
    "def fit(train_X, train_y, test_X, test_y):\n",
    "    \"\"\" Fits the training set to a single hidden layer neural network, using the testing set as validation\n",
    "    :param train_X: training set\n",
    "    :param train_y: label vector\n",
    "    :param test_X: testing set\n",
    "    :param test_y: label vector\n",
    "    :return: accuracies, errors, validation_predictions, hidden_weights, output_weights\n",
    "    \"\"\"\n",
    "    \n",
    "    num_iterations=10000 # 1000 iterations = 1 epoch\n",
    "    curr_epoch = 1\n",
    "    learning_rate=0.001 #hyperparameter\n",
    "\n",
    "    num_input = 28 * 28 # number of neurons in the input layer = 784\n",
    "    num_hidden = 128 # number of neurons in the hidden layer = 128\n",
    "    num_output = 10 # number of neurons in the output layer = 10\n",
    "\n",
    "    # initialize hidden and output weights to be randomized, small values\n",
    "    hidden_weights = (np.random.randn(num_input, num_hidden) / np.sqrt(num_input*num_hidden)).astype(np.float64)\n",
    "    output_weights = (np.random.randn(num_hidden, num_output)  / np.sqrt(num_output*num_hidden)).astype(np.float64)\n",
    "\n",
    "    # flatten each 28x28 pixel image into 784 pixels\n",
    "    train_X = train_X.reshape(train_X.shape[0], 784) \n",
    "    test_X = test_X.reshape(test_X.shape[0], 784) \n",
    "\n",
    "    # lists to record the metrics of each epoch\n",
    "    accuracies = []\n",
    "    errors = []\n",
    "\n",
    "    for i in range(num_iterations):\n",
    "        x, y, labels = get_sample(train_X, train_y) # get batch of 128 samples of x with corresponding label y\n",
    "        \n",
    "        output = forward_propagation(x,  hidden_weights, output_weights)\n",
    "        weight_adjustments = backward_propagation(x, labels, output, output_weights)\n",
    "        hidden_weights, output_weights = gradient_descent(hidden_weights, output_weights, weight_adjustments['hidden'], weight_adjustments['output'], learning_rate)\n",
    "        \n",
    "    \n",
    "        if(i % 1000 == 0): # 1 epoch is 1000 iterations\n",
    "            training_predictions = np.argmax(output['output_activation'],axis=1) #find columns with highest probability\n",
    "            training_acc = (training_predictions == y).mean() * 100.0 # find average accuracy\n",
    "            training_err = 100 - training_acc \n",
    "\n",
    "        \n",
    "            testing_set = test_X.reshape((-1,784)) #flatten test data set\n",
    "            validation_predictions = np.argmax(softmax(np.dot(sigmoid(np.dot(testing_set, hidden_weights)), output_weights)) ,axis=1)  # Propogate the validation set thru and compare its results with actual results\n",
    "\n",
    "            validation_acc = (validation_predictions == test_y).mean() * 100.0 # find average accuracy\n",
    "            validation_err = 100 - validation_acc \n",
    "            \n",
    "            # record epoch metrics for plotting later\n",
    "            accuracies.append(validation_acc)\n",
    "            errors.append(validation_err)\n",
    "            print(\"Epoch \" + str(curr_epoch) + \"/10: Training Accuracy: \" + str(training_acc) +\"% Training Error: \" + str(training_err) + \"% Validation Accuracy: \" + str(validation_acc) + \"% Validation Error: \" + str(validation_err) + \"%\")\n",
    "            curr_epoch += 1\n",
    "    return accuracies, errors, validation_predictions, hidden_weights, output_weights\n",
    "\n",
    "\n",
    "# Main program\n",
    "\n",
    "(train_X, train_y), (test_X, test_y) = mnist.load_data()\n",
    "print(train_X.shape)\n",
    "\n",
    "accuracies, errors, validation_predictions, hidden_weights, output_weights = fit(train_X, train_y, test_X, test_y) # train the neural network\n",
    "original_test_X = test_X # store for 1.7\n",
    "original_test_y = test_y # store for 1.7\n",
    "\n",
    "# Plot test data accuracies and errors\n",
    "plt.ylim(0, 100)\n",
    "plt.title(\"Validation Accuracies vs Epochs\")\n",
    "plt.xlabel(\"Epoch\")\n",
    "plt.ylabel(\"Accuracy (%)\")\n",
    "plt.plot(accuracies)\n",
    "plt.show()\n",
    "\n",
    "\n",
    "plt.ylim(0, 100)\n",
    "plt.title(\"Validation Errors vs Epochs\")\n",
    "plt.xlabel(\"Epoch\")\n",
    "plt.ylabel(\"Error (%)\")\n",
    "plt.plot(errors)\n",
    "plt.show()\n",
    "\n",
    "\n",
    "model1_misclassified = np.where(original_test_y != validation_predictions)[0]# store for 1.7\n",
    "\n",
    "\n"
   ]
  },
  {
   "cell_type": "markdown",
   "metadata": {},
   "source": [
    "1.2 Simple\n",
    "\n",
    "The neural network increases in accuracy as the number of gradient descent iterations and epochs increase. Likewise, the error percentages decrease as the number of gradient descent iterations and epochs increase. It was also determined that the best value for the hyperparameter learning_rate was 0.001 of the set {0.001, 0.01, 0.1}."
   ]
  },
  {
   "cell_type": "code",
   "execution_count": null,
   "metadata": {},
   "outputs": [
    {
     "name": "stdout",
     "output_type": "stream",
     "text": [
      "Epoch 1/10\n",
      "77/77 [==============================] - 30s 24ms/step - loss: 0.2824 - accuracy: 0.5710 - val_loss: 0.1195 - val_accuracy: 0.8716\n",
      "Epoch 2/10\n",
      "77/77 [==============================] - 1s 13ms/step - loss: 0.1050 - accuracy: 0.8818 - val_loss: 0.0764 - val_accuracy: 0.9002\n",
      "Epoch 3/10\n",
      "77/77 [==============================] - 1s 13ms/step - loss: 0.0729 - accuracy: 0.9026 - val_loss: 0.0627 - val_accuracy: 0.9153\n",
      "Epoch 4/10\n",
      "77/77 [==============================] - 1s 13ms/step - loss: 0.0591 - accuracy: 0.9161 - val_loss: 0.0526 - val_accuracy: 0.9200\n",
      "Epoch 5/10\n",
      "77/77 [==============================] - 1s 13ms/step - loss: 0.0521 - accuracy: 0.9232 - val_loss: 0.0483 - val_accuracy: 0.9273\n",
      "Epoch 6/10\n",
      "77/77 [==============================] - 1s 14ms/step - loss: 0.0468 - accuracy: 0.9317 - val_loss: 0.0455 - val_accuracy: 0.9311\n",
      "Epoch 7/10\n",
      "77/77 [==============================] - 1s 14ms/step - loss: 0.0436 - accuracy: 0.9365 - val_loss: 0.0426 - val_accuracy: 0.9358\n",
      "Epoch 8/10\n",
      "77/77 [==============================] - 1s 13ms/step - loss: 0.0418 - accuracy: 0.9376 - val_loss: 0.0410 - val_accuracy: 0.9377\n",
      "Epoch 9/10\n",
      "77/77 [==============================] - 1s 13ms/step - loss: 0.0391 - accuracy: 0.9418 - val_loss: 0.0388 - val_accuracy: 0.9409\n",
      "Epoch 10/10\n",
      "77/77 [==============================] - 1s 13ms/step - loss: 0.0376 - accuracy: 0.9447 - val_loss: 0.0385 - val_accuracy: 0.9417\n"
     ]
    }
   ],
   "source": [
    "#1.3 Keras\n",
    "from keras.datasets import mnist\n",
    "import keras\n",
    "import numpy as np\n",
    "from tensorflow.keras.utils import to_categorical\n",
    "\n",
    "(train_X, train_y), (test_X, test_y) = mnist.load_data()\n",
    "\n",
    "original_test_X = test_X # store for 1.7\n",
    "original_test_y = test_y # store for 1.7\n",
    "\n",
    "model2 = keras.Sequential([\n",
    "    keras.layers.Flatten(input_shape=(28, 28, 1)), # input layer\n",
    "    keras.layers.Dense(128, activation='sigmoid'), # hidden layer\n",
    "    keras.layers.Dense(10, activation=\"softmax\") # output layer\n",
    "])\n",
    "\n",
    "model2.compile(loss=keras.losses.CategoricalCrossentropy(),metrics=['accuracy'])\n",
    "\n",
    "train_y = to_categorical(train_y, 10)\n",
    "test_y = to_categorical(test_y, 10)\n",
    "\n",
    "model2.fit(train_X, train_y, batch_size = 784, epochs=10, validation_data=(test_X, test_y))\n",
    "\n",
    "model2_misclassified = np.where(original_test_y != np.argmax(model2.predict(original_test_X), axis=-1))[0] # store for 1.7\n"
   ]
  },
  {
   "cell_type": "markdown",
   "metadata": {},
   "source": [
    "1.3 Keras\n",
    "\n",
    "The Keras model (model2) performs better than the neural network made form scratch (model1). Model1 has a validation accuracy of ~82% while model2 has a validation accuracy of ~94%. Model2 also trains a little bit faster than model1."
   ]
  },
  {
   "cell_type": "code",
   "execution_count": null,
   "metadata": {},
   "outputs": [
    {
     "name": "stdout",
     "output_type": "stream",
     "text": [
      "Epoch 1/10\n",
      "77/77 [==============================] - 3s 17ms/step - loss: 6.7810 - accuracy: 0.5697 - val_loss: 0.6682 - val_accuracy: 0.8907\n",
      "Epoch 2/10\n",
      "77/77 [==============================] - 1s 12ms/step - loss: 0.6017 - accuracy: 0.8917 - val_loss: 0.3089 - val_accuracy: 0.9310\n",
      "Epoch 3/10\n",
      "77/77 [==============================] - 1s 13ms/step - loss: 0.3027 - accuracy: 0.9287 - val_loss: 0.2330 - val_accuracy: 0.9361\n",
      "Epoch 4/10\n",
      "77/77 [==============================] - 1s 13ms/step - loss: 0.1879 - accuracy: 0.9458 - val_loss: 0.2220 - val_accuracy: 0.9346\n",
      "Epoch 5/10\n",
      "77/77 [==============================] - 1s 13ms/step - loss: 0.1488 - accuracy: 0.9535 - val_loss: 0.1465 - val_accuracy: 0.9488\n",
      "Epoch 6/10\n",
      "77/77 [==============================] - 1s 12ms/step - loss: 0.1019 - accuracy: 0.9620 - val_loss: 0.1331 - val_accuracy: 0.9532\n",
      "Epoch 7/10\n",
      "77/77 [==============================] - 1s 13ms/step - loss: 0.0743 - accuracy: 0.9704 - val_loss: 0.1167 - val_accuracy: 0.9558\n",
      "Epoch 8/10\n",
      "77/77 [==============================] - 1s 13ms/step - loss: 0.0628 - accuracy: 0.9725 - val_loss: 0.1094 - val_accuracy: 0.9581\n",
      "Epoch 9/10\n",
      "77/77 [==============================] - 1s 13ms/step - loss: 0.0466 - accuracy: 0.9788 - val_loss: 0.1081 - val_accuracy: 0.9583\n",
      "Epoch 10/10\n",
      "77/77 [==============================] - 1s 13ms/step - loss: 0.0419 - accuracy: 0.9788 - val_loss: 0.0964 - val_accuracy: 0.9587\n"
     ]
    }
   ],
   "source": [
    "#1.4 ReLU\n",
    "from keras.datasets import mnist\n",
    "import keras\n",
    "import numpy as np\n",
    "from tensorflow.keras.utils import to_categorical\n",
    "\n",
    "(train_X, train_y), (test_X, test_y) = mnist.load_data()\n",
    "\n",
    "original_test_X = test_X # store for 1.7\n",
    "original_test_y = test_y # store for 1.7\n",
    "\n",
    "\n",
    "model3 = keras.Sequential([\n",
    "    keras.layers.Flatten(input_shape=(28, 28, 1)), #input layer\n",
    "    keras.layers.Dense(128, activation='relu'), #hidden layer\n",
    "    keras.layers.Dense(10, activation=\"softmax\") #output layer\n",
    "])\n",
    "\n",
    "model3.compile(loss=keras.losses.CategoricalCrossentropy(), metrics=['accuracy'])\n",
    "\n",
    "train_y = to_categorical(train_y, 10)\n",
    "test_y = to_categorical(test_y, 10)\n",
    "\n",
    "model3.fit(train_X, train_y, batch_size = 784, epochs=10, validation_data=(test_X, test_y))\n",
    "\n",
    "model3_misclassified = np.where(original_test_y != np.argmax(model3.predict(original_test_X), axis=-1))[0] # store for 1.7"
   ]
  },
  {
   "cell_type": "markdown",
   "metadata": {},
   "source": [
    "1.4 ReLU\n",
    "\n",
    "The Keras model (model3) using the ReLU activation function performs slightly better than the previous model2 that used the sigmoid activation function. Model3 has a validation accuracy of ~96% while model2 has a validation accuracy of ~94%. Model3 seemed top train in the same amount of time as model2."
   ]
  },
  {
   "cell_type": "code",
   "execution_count": null,
   "metadata": {},
   "outputs": [
    {
     "name": "stdout",
     "output_type": "stream",
     "text": [
      "Running all 9 combinations of hyperparamters for 2 folds -> this will take a few minutes...\n",
      "\n",
      "Fitting 2 folds for each of 9 candidates, totalling 18 fits\n",
      "[CV 1/2; 1/9] START dropout_rate=0.0, l2_regularizer=0.0........................\n",
      "[CV 1/2; 1/9] END dropout_rate=0.0, l2_regularizer=0.0;, score=0.932 total time=   8.6s\n",
      "[CV 2/2; 1/9] START dropout_rate=0.0, l2_regularizer=0.0........................\n",
      "[CV 2/2; 1/9] END dropout_rate=0.0, l2_regularizer=0.0;, score=0.926 total time=   7.5s\n",
      "[CV 1/2; 2/9] START dropout_rate=0.0, l2_regularizer=0.2........................\n",
      "[CV 1/2; 2/9] END dropout_rate=0.0, l2_regularizer=0.2;, score=0.909 total time=   7.4s\n",
      "[CV 2/2; 2/9] START dropout_rate=0.0, l2_regularizer=0.2........................\n",
      "[CV 2/2; 2/9] END dropout_rate=0.0, l2_regularizer=0.2;, score=0.912 total time=   8.0s\n",
      "[CV 1/2; 3/9] START dropout_rate=0.0, l2_regularizer=0.5........................\n",
      "[CV 1/2; 3/9] END dropout_rate=0.0, l2_regularizer=0.5;, score=0.895 total time=   7.7s\n",
      "[CV 2/2; 3/9] START dropout_rate=0.0, l2_regularizer=0.5........................\n",
      "[CV 2/2; 3/9] END dropout_rate=0.0, l2_regularizer=0.5;, score=0.893 total time=   7.7s\n",
      "[CV 1/2; 4/9] START dropout_rate=0.2, l2_regularizer=0.0........................\n",
      "[CV 1/2; 4/9] END dropout_rate=0.2, l2_regularizer=0.0;, score=0.913 total time=  11.8s\n",
      "[CV 2/2; 4/9] START dropout_rate=0.2, l2_regularizer=0.0........................\n",
      "[CV 2/2; 4/9] END dropout_rate=0.2, l2_regularizer=0.0;, score=0.907 total time=  11.4s\n",
      "[CV 1/2; 5/9] START dropout_rate=0.2, l2_regularizer=0.2........................\n",
      "[CV 1/2; 5/9] END dropout_rate=0.2, l2_regularizer=0.2;, score=0.886 total time=  10.9s\n",
      "[CV 2/2; 5/9] START dropout_rate=0.2, l2_regularizer=0.2........................\n",
      "[CV 2/2; 5/9] END dropout_rate=0.2, l2_regularizer=0.2;, score=0.886 total time=  11.3s\n",
      "[CV 1/2; 6/9] START dropout_rate=0.2, l2_regularizer=0.5........................\n",
      "[CV 1/2; 6/9] END dropout_rate=0.2, l2_regularizer=0.5;, score=0.879 total time=  11.0s\n",
      "[CV 2/2; 6/9] START dropout_rate=0.2, l2_regularizer=0.5........................\n",
      "[CV 2/2; 6/9] END dropout_rate=0.2, l2_regularizer=0.5;, score=0.873 total time=  11.0s\n",
      "[CV 1/2; 7/9] START dropout_rate=0.5, l2_regularizer=0.0........................\n",
      "[CV 1/2; 7/9] END dropout_rate=0.5, l2_regularizer=0.0;, score=0.707 total time=  12.3s\n",
      "[CV 2/2; 7/9] START dropout_rate=0.5, l2_regularizer=0.0........................\n",
      "[CV 2/2; 7/9] END dropout_rate=0.5, l2_regularizer=0.0;, score=0.750 total time=  11.4s\n",
      "[CV 1/2; 8/9] START dropout_rate=0.5, l2_regularizer=0.2........................\n",
      "[CV 1/2; 8/9] END dropout_rate=0.5, l2_regularizer=0.2;, score=0.658 total time=  11.4s\n",
      "[CV 2/2; 8/9] START dropout_rate=0.5, l2_regularizer=0.2........................\n",
      "[CV 2/2; 8/9] END dropout_rate=0.5, l2_regularizer=0.2;, score=0.446 total time=  10.8s\n",
      "[CV 1/2; 9/9] START dropout_rate=0.5, l2_regularizer=0.5........................\n",
      "[CV 1/2; 9/9] END dropout_rate=0.5, l2_regularizer=0.5;, score=0.402 total time=  10.9s\n",
      "[CV 2/2; 9/9] START dropout_rate=0.5, l2_regularizer=0.5........................\n",
      "[CV 2/2; 9/9] END dropout_rate=0.5, l2_regularizer=0.5;, score=0.435 total time=  11.0s\n",
      "After tuning the hyperparamters, the best hyperparamters are:\n",
      "Dropout Value: 0.0\n",
      "L2 Regularization Value: 0.0\n",
      "\n",
      "Fit model with best hyperparameters for 1.7\n",
      "Epoch 1/10\n",
      "77/77 [==============================] - 4s 22ms/step - loss: 0.3379 - accuracy: 0.3525 - val_loss: 0.1197 - val_accuracy: 0.8564\n",
      "Epoch 2/10\n",
      "77/77 [==============================] - 1s 14ms/step - loss: 0.1034 - accuracy: 0.8648 - val_loss: 0.0683 - val_accuracy: 0.9009\n",
      "Epoch 3/10\n",
      "77/77 [==============================] - 1s 15ms/step - loss: 0.0636 - accuracy: 0.9084 - val_loss: 0.0571 - val_accuracy: 0.9111\n",
      "Epoch 4/10\n",
      "77/77 [==============================] - 1s 15ms/step - loss: 0.0531 - accuracy: 0.9190 - val_loss: 0.0503 - val_accuracy: 0.9217\n",
      "Epoch 5/10\n",
      "77/77 [==============================] - 1s 15ms/step - loss: 0.0464 - accuracy: 0.9289 - val_loss: 0.0428 - val_accuracy: 0.9349\n",
      "Epoch 6/10\n",
      "77/77 [==============================] - 1s 15ms/step - loss: 0.0403 - accuracy: 0.9391 - val_loss: 0.0389 - val_accuracy: 0.9379\n",
      "Epoch 7/10\n",
      "77/77 [==============================] - 1s 15ms/step - loss: 0.0380 - accuracy: 0.9412 - val_loss: 0.0373 - val_accuracy: 0.9433\n",
      "Epoch 8/10\n",
      "77/77 [==============================] - 1s 15ms/step - loss: 0.0356 - accuracy: 0.9454 - val_loss: 0.0385 - val_accuracy: 0.9399\n",
      "Epoch 9/10\n",
      "77/77 [==============================] - 1s 15ms/step - loss: 0.0333 - accuracy: 0.9474 - val_loss: 0.0360 - val_accuracy: 0.9451\n",
      "Epoch 10/10\n",
      "77/77 [==============================] - 1s 15ms/step - loss: 0.0303 - accuracy: 0.9531 - val_loss: 0.0341 - val_accuracy: 0.9459\n"
     ]
    }
   ],
   "source": [
    "#1.5 Dropout\n",
    "from keras.datasets import mnist\n",
    "import keras\n",
    "import numpy as np\n",
    "from tensorflow.keras.utils import to_categorical\n",
    "from sklearn.model_selection import GridSearchCV, KFold\n",
    "from keras.wrappers.scikit_learn import KerasClassifier\n",
    "\n",
    "(train_X, train_y), (test_X, test_y) = mnist.load_data()\n",
    "\n",
    "original_test_X = test_X # store for 1.7\n",
    "original_test_y = test_y # store for 1.7\n",
    "\n",
    "train_y = to_categorical(train_y, 10)\n",
    "test_y = to_categorical(test_y, 10)\n",
    "\n",
    "\n",
    "def neural_network(dropout_rate, l2_regularizer):\n",
    "    model = keras.Sequential([\n",
    "        keras.layers.Flatten(input_shape=(28, 28, 1)), #input layer\n",
    "        keras.layers.Dropout(dropout_rate),\n",
    "        keras.layers.Dense(128, activation='sigmoid'), #hidden layer1\n",
    "        keras.layers.Dropout(dropout_rate),\n",
    "        keras.layers.Dense(64, activation='relu'), #hidden layer2\n",
    "        keras.layers.Dropout(dropout_rate),\n",
    "        keras.layers.Dense(32, activation='relu'), #hidden layer3\n",
    "        keras.layers.Dropout(dropout_rate),\n",
    "        keras.layers.Dense(10, activation=\"softmax\", kernel_regularizer=keras.regularizers.l2(l2_regularizer), bias_regularizer=keras.regularizers.l2(l2_regularizer)) #output layer\n",
    "        \n",
    "    ])\n",
    "    model.compile(loss=keras.losses.CategoricalCrossentropy(), metrics=['accuracy'])\n",
    "    return model\n",
    "\n",
    "\n",
    "dropout_hyperparams = [0.0, 0.2, 0.5]\n",
    "l2_hyperparams = [0.0, 0.2, 0.5]\n",
    "\n",
    "param_grid = dict(dropout_rate=dropout_hyperparams, l2_regularizer = l2_hyperparams)\n",
    "\n",
    "tuning_model = KerasClassifier(build_fn=neural_network, batch_size=784, epochs=10, verbose=0,)\n",
    "models = GridSearchCV(estimator = tuning_model, param_grid = param_grid, cv = KFold(2), verbose=10)\n",
    "print(\"Running all 9 combinations of hyperparamters for 2 folds -> this will take a few minutes...\")\n",
    "print()\n",
    "results = models.fit(train_X, train_y)\n",
    "best_dropout = results.best_params_['dropout_rate']\n",
    "best_l2 = results.best_params_['l2_regularizer']\n",
    "\n",
    "print(\"After tuning the hyperparamters, the best hyperparamters are:\")\n",
    "print(\"Dropout Value: \" + str(best_dropout))\n",
    "print(\"L2 Regularization Value: \" + str(best_l2))\n",
    "print()\n",
    "\n",
    "print(\"Fit model with best hyperparameters for 1.7\")\n",
    "model4 = neural_network(best_dropout, best_l2)\n",
    "model4.fit(train_X, train_y, batch_size = 784, epochs=10, validation_data=(test_X, test_y))\n",
    "\n",
    "model4_misclassified = np.where(original_test_y != np.argmax(model4.predict(original_test_X), axis=-1))[0] # store for 1.7"
   ]
  },
  {
   "cell_type": "markdown",
   "metadata": {},
   "source": [
    "1.5 Dropout\n",
    "\n",
    "After adding 3 hidden layers and using cross-validation with different values for L2 regularization and dropout, it was determined that the best pair of hyperparameters was when the L2 regularization value was 0 and the dropout value was 0. In fact, the best model's (model4) accuracy and error rates were worse than the previous models with a validation accuracy of ~94%"
   ]
  },
  {
   "cell_type": "code",
   "execution_count": 2,
   "metadata": {},
   "outputs": [
    {
     "name": "stdout",
     "output_type": "stream",
     "text": [
      "(60000, 28, 28)\n",
      "(60000, 28, 28, 1)\n",
      "Epoch 1/10\n",
      "77/77 [==============================] - 34s 272ms/step - loss: 3.3530 - accuracy: 0.5849 - val_loss: 0.0548 - val_accuracy: 0.9337\n",
      "Epoch 2/10\n",
      "77/77 [==============================] - 17s 213ms/step - loss: 0.0354 - accuracy: 0.9576 - val_loss: 0.0195 - val_accuracy: 0.9749\n",
      "Epoch 3/10\n",
      "77/77 [==============================] - 18s 230ms/step - loss: 0.0151 - accuracy: 0.9822 - val_loss: 0.0145 - val_accuracy: 0.9821\n",
      "Epoch 4/10\n",
      "77/77 [==============================] - 16s 207ms/step - loss: 0.0078 - accuracy: 0.9908 - val_loss: 0.0138 - val_accuracy: 0.9840\n",
      "Epoch 5/10\n",
      "77/77 [==============================] - 18s 235ms/step - loss: 0.0052 - accuracy: 0.9942 - val_loss: 0.0134 - val_accuracy: 0.9830\n",
      "Epoch 6/10\n",
      "77/77 [==============================] - 20s 256ms/step - loss: 0.0035 - accuracy: 0.9963 - val_loss: 0.0142 - val_accuracy: 0.9842\n",
      "Epoch 7/10\n",
      "77/77 [==============================] - 21s 277ms/step - loss: 0.0026 - accuracy: 0.9970 - val_loss: 0.0135 - val_accuracy: 0.9881\n",
      "Epoch 8/10\n",
      "77/77 [==============================] - 19s 247ms/step - loss: 0.0021 - accuracy: 0.9983 - val_loss: 0.0139 - val_accuracy: 0.9876\n",
      "Epoch 9/10\n",
      "77/77 [==============================] - 17s 221ms/step - loss: 0.0020 - accuracy: 0.9982 - val_loss: 0.0168 - val_accuracy: 0.9857\n",
      "Epoch 10/10\n",
      "77/77 [==============================] - 16s 201ms/step - loss: 0.0016 - accuracy: 0.9985 - val_loss: 0.0157 - val_accuracy: 0.9875\n"
     ]
    }
   ],
   "source": [
    "#1.6 Convolution\n",
    "from keras.datasets import mnist\n",
    "import keras\n",
    "import numpy as np\n",
    "from tensorflow.keras.utils import to_categorical\n",
    "\n",
    "(train_X, train_y), (test_X, test_y) = mnist.load_data()\n",
    "\n",
    "original_test_X = test_X # store for 1.7\n",
    "original_test_y = test_y # store for 1.7\n",
    "print(train_X.shape)\n",
    "\n",
    "model5_train_X = np.expand_dims(train_X, 3)\n",
    "model5_test_X = np.expand_dims(test_X, 3)\n",
    "print(model5_train_X.shape)\n",
    "\n",
    "\n",
    "train_y = to_categorical(train_y, 10)\n",
    "test_y = to_categorical(test_y, 10)\n",
    "\n",
    "\n",
    "model5 = keras.Sequential([\n",
    "    keras.layers.InputLayer(input_shape=(28, 28, 1)), #input layer\n",
    "    keras.layers.Conv2D(32, kernel_size=10, activation='relu'), #convolutional layer\n",
    "    keras.layers.MaxPooling2D(pool_size=2), # pooling layer\n",
    "    keras.layers.Flatten(input_shape=(28, 28, 1)), # reshape\n",
    "    keras.layers.Dense(128, activation='relu'), # fully connected layer\n",
    "    keras.layers.Dense(10, activation=\"softmax\") #output layer\n",
    "])\n",
    "\n",
    "model5.compile(loss=keras.losses.CategoricalCrossentropy(), metrics=['accuracy'])\n",
    "\n",
    "model5.fit(model5_train_X, train_y, batch_size = 784, epochs=10, validation_data=(model5_test_X, test_y))\n",
    "\n",
    "model5_misclassified = np.where(original_test_y != np.argmax(model5.predict(model5_test_X), axis=-1))[0] # store for 1.7\n"
   ]
  },
  {
   "cell_type": "markdown",
   "metadata": {},
   "source": [
    "1.6 Convolution\n",
    "\n",
    "After adding 3 hidden layers that consisted of a convolutional layer, pooling layer and a full connected layer, the validation accuracy was extremely high (the highest yet) at ~98%, The hyperparameters where chosen based on the pooling layer; as the pool size was increased, the accuracy of the model decreased. The most optimal value for the pooling layers pool size was found to be 2."
   ]
  },
  {
   "cell_type": "code",
   "execution_count": null,
   "metadata": {},
   "outputs": [
    {
     "name": "stdout",
     "output_type": "stream",
     "text": [
      "WARNING:tensorflow:Model was constructed with shape (None, 28, 28, 1) for input KerasTensor(type_spec=TensorSpec(shape=(None, 28, 28, 1), dtype=tf.float32, name='flatten_input'), name='flatten_input', description=\"created by layer 'flatten_input'\"), but it was called on an input with incompatible shape (None, 784).\n",
      "WARNING:tensorflow:Model was constructed with shape (None, 28, 28, 1) for input KerasTensor(type_spec=TensorSpec(shape=(None, 28, 28, 1), dtype=tf.float32, name='flatten_1_input'), name='flatten_1_input', description=\"created by layer 'flatten_1_input'\"), but it was called on an input with incompatible shape (None, 784).\n",
      "WARNING:tensorflow:Model was constructed with shape (None, 28, 28, 1) for input KerasTensor(type_spec=TensorSpec(shape=(None, 28, 28, 1), dtype=tf.float32, name='flatten_21_input'), name='flatten_21_input', description=\"created by layer 'flatten_21_input'\"), but it was called on an input with incompatible shape (None, 784).\n",
      "Actual Class: 8\n",
      "Model1 Predicted Class: 3\n",
      "Model2 Predicted Class: 2\n",
      "Model3 Predicted Class: 2\n",
      "Model4 Predicted Class: 2\n",
      "Model5 Predicted Class: 2\n"
     ]
    },
    {
     "data": {
      "image/png": "[encoded data removed]",
      "text/plain": [
       "<Figure size 432x288 with 1 Axes>"
      ]
     },
     "metadata": {
      "needs_background": "light"
     },
     "output_type": "display_data"
    },
    {
     "name": "stdout",
     "output_type": "stream",
     "text": [
      "\n",
      "\n",
      "Actual Class: 2\n",
      "Model1 Predicted Class: 1\n",
      "Model2 Predicted Class: 8\n",
      "Model3 Predicted Class: 8\n",
      "Model4 Predicted Class: 8\n",
      "Model5 Predicted Class: 7\n"
     ]
    },
    {
     "data": {
      "image/png": "[encoded data removed]",
      "text/plain": [
       "<Figure size 432x288 with 1 Axes>"
      ]
     },
     "metadata": {
      "needs_background": "light"
     },
     "output_type": "display_data"
    },
    {
     "name": "stdout",
     "output_type": "stream",
     "text": [
      "\n",
      "\n",
      "Actual Class: 2\n",
      "Model1 Predicted Class: 7\n",
      "Model2 Predicted Class: 7\n",
      "Model3 Predicted Class: 7\n",
      "Model4 Predicted Class: 7\n",
      "Model5 Predicted Class: 7\n"
     ]
    },
    {
     "data": {
      "image/png": "[encoded data removed]",
      "text/plain": [
       "<Figure size 432x288 with 1 Axes>"
      ]
     },
     "metadata": {
      "needs_background": "light"
     },
     "output_type": "display_data"
    },
    {
     "name": "stdout",
     "output_type": "stream",
     "text": [
      "\n",
      "\n",
      "Actual Class: 8\n",
      "Model1 Predicted Class: 1\n",
      "Model2 Predicted Class: 9\n",
      "Model3 Predicted Class: 9\n",
      "Model4 Predicted Class: 9\n",
      "Model5 Predicted Class: 9\n"
     ]
    },
    {
     "data": {
      "image/png": "[encoded data removed]",
      "text/plain": [
       "<Figure size 432x288 with 1 Axes>"
      ]
     },
     "metadata": {
      "needs_background": "light"
     },
     "output_type": "display_data"
    },
    {
     "name": "stdout",
     "output_type": "stream",
     "text": [
      "\n",
      "\n",
      "Actual Class: 6\n",
      "Model1 Predicted Class: 0\n",
      "Model2 Predicted Class: 0\n",
      "Model3 Predicted Class: 0\n",
      "Model4 Predicted Class: 0\n",
      "Model5 Predicted Class: 0\n"
     ]
    },
    {
     "data": {
      "image/png": "[encoded data removed]",
      "text/plain": [
       "<Figure size 432x288 with 1 Axes>"
      ]
     },
     "metadata": {
      "needs_background": "light"
     },
     "output_type": "display_data"
    },
    {
     "name": "stdout",
     "output_type": "stream",
     "text": [
      "\n",
      "\n",
      "Actual Class: 6\n",
      "Model1 Predicted Class: 0\n",
      "Model2 Predicted Class: 5\n",
      "Model3 Predicted Class: 5\n",
      "Model4 Predicted Class: 5\n",
      "Model5 Predicted Class: 5\n"
     ]
    },
    {
     "data": {
      "image/png": "[encoded data removed]",
      "text/plain": [
       "<Figure size 432x288 with 1 Axes>"
      ]
     },
     "metadata": {
      "needs_background": "light"
     },
     "output_type": "display_data"
    },
    {
     "name": "stdout",
     "output_type": "stream",
     "text": [
      "\n",
      "\n",
      "Actual Class: 4\n",
      "Model1 Predicted Class: 6\n",
      "Model2 Predicted Class: 6\n",
      "Model3 Predicted Class: 6\n",
      "Model4 Predicted Class: 6\n",
      "Model5 Predicted Class: 6\n"
     ]
    },
    {
     "data": {
      "image/png": "[encoded data removed]",
      "text/plain": [
       "<Figure size 432x288 with 1 Axes>"
      ]
     },
     "metadata": {
      "needs_background": "light"
     },
     "output_type": "display_data"
    },
    {
     "name": "stdout",
     "output_type": "stream",
     "text": [
      "\n",
      "\n",
      "Actual Class: 7\n",
      "Model1 Predicted Class: 1\n",
      "Model2 Predicted Class: 2\n",
      "Model3 Predicted Class: 2\n",
      "Model4 Predicted Class: 2\n",
      "Model5 Predicted Class: 2\n"
     ]
    },
    {
     "data": {
      "image/png": "[encoded data removed]",
      "text/plain": [
       "<Figure size 432x288 with 1 Axes>"
      ]
     },
     "metadata": {
      "needs_background": "light"
     },
     "output_type": "display_data"
    },
    {
     "name": "stdout",
     "output_type": "stream",
     "text": [
      "\n",
      "\n",
      "Actual Class: 9\n",
      "Model1 Predicted Class: 6\n",
      "Model2 Predicted Class: 4\n",
      "Model3 Predicted Class: 6\n",
      "Model4 Predicted Class: 4\n",
      "Model5 Predicted Class: 1\n"
     ]
    },
    {
     "data": {
      "image/png": "[encoded data removed]",
      "text/plain": [
       "<Figure size 432x288 with 1 Axes>"
      ]
     },
     "metadata": {
      "needs_background": "light"
     },
     "output_type": "display_data"
    },
    {
     "name": "stdout",
     "output_type": "stream",
     "text": [
      "\n",
      "\n"
     ]
    }
   ],
   "source": [
    "#1.7 Mugshots\n",
    "import matplotlib.pyplot as plt\n",
    "from functools import reduce\n",
    "\n",
    "# find images that were miss classified by all 5 models\n",
    "misclassified_images = reduce(np.intersect1d, (model1_misclassified, model2_misclassified, model3_misclassified, model4_misclassified, model5_misclassified))\n",
    "\n",
    "# print 9 of the missclassified images\n",
    "for i in range(9):\n",
    "    plt.imshow(test_X[misclassified_images[i]], cmap='gray')\n",
    "    image_idx = test_X[misclassified_images[i]].reshape((-1,784))\n",
    "    \n",
    "    #Find each model's prediction given the misclassification\n",
    "    model1_prediction = np.argmax(sigmoid(image_idx.dot(hidden_weights)).dot(output_weights),axis=1)[0]\n",
    "    model2_prediction = np.argmax(model2.predict(image_idx), axis=-1)[0]\n",
    "    model3_prediction = np.argmax(model3.predict(image_idx), axis=-1)[0]\n",
    "    model4_prediction = np.argmax(model4.predict(image_idx), axis=-1)[0]\n",
    "    model5_prediction = np.argmax(model5.predict(model5_test_X[np.expand_dims(misclassified_images[i], -1)]), axis=-1)[0]\n",
    "  \n",
    "    actual_class = np.argmax(test_y[misclassified_images[i]], axis=-1) \n",
    "    print(\"Actual Class: \"+ str(actual_class))\n",
    "    print(\"Model1 Predicted Class: \" +  str(model1_prediction))\n",
    "    print(\"Model2 Predicted Class: \" +  str(model2_prediction))\n",
    "    print(\"Model3 Predicted Class: \" +  str(model3_prediction))\n",
    "    print(\"Model4 Predicted Class: \" +  str(model4_prediction))\n",
    "    print(\"Model5 Predicted Class: \" +  str(model5_prediction))\n",
    "    plt.show()\n",
    "    print()\n",
    "    print()\n",
    "\n"
   ]
  },
  {
   "cell_type": "markdown",
   "metadata": {},
   "source": [
    "1.7 Mugshot\n",
    "\n",
    "For most of these images, I would personally have to guess what they are. Some of them can kind of be made out but other images I am completely unsure about. This goes to show how accurate some of the models are and that they are able to make good second-best predictions even when the first prediction was incorrect."
   ]
  }
 ],
 "metadata": {
  "interpreter": {
   "hash": "31f2aee4e71d21fbe5cf8b01ff0e069b9275f58929596ceb00d14d90e3e16cd6"
  },
  "kernelspec": {
   "display_name": "Python 3.8.9 64-bit",
   "name": "python3"
  },
  "language_info": {
   "codemirror_mode": {
    "name": "ipython",
    "version": 3
   },
   "file_extension": ".py",
   "mimetype": "text/x-python",
   "name": "python",
   "nbconvert_exporter": "python",
   "pygments_lexer": "ipython3",
   "version": "3.8.9"
  },
  "orig_nbformat": 4
 },
 "nbformat": 4,
 "nbformat_minor": 2
}
